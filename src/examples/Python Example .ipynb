{
 "cells": [
  {
   "cell_type": "code",
   "execution_count": 1,
   "metadata": {
    "collapsed": false
   },
   "outputs": [
    {
     "name": "stderr",
     "output_type": "stream",
     "text": [
      "[EMA/INFO/MainProcess] 100 experiment will be executed\n",
      "[EMA/INFO/MainProcess] starting to perform experiments sequentially\n",
      "[EMA/INFO/MainProcess] 10 cases completed\n",
      "[EMA/INFO/MainProcess] 20 cases completed\n",
      "[EMA/INFO/MainProcess] 30 cases completed\n",
      "[EMA/INFO/MainProcess] 40 cases completed\n",
      "[EMA/INFO/MainProcess] 50 cases completed\n",
      "[EMA/INFO/MainProcess] 60 cases completed\n",
      "[EMA/INFO/MainProcess] 70 cases completed\n",
      "[EMA/INFO/MainProcess] 80 cases completed\n",
      "[EMA/INFO/MainProcess] 90 cases completed\n",
      "[EMA/INFO/MainProcess] 100 cases completed\n",
      "[EMA/INFO/MainProcess] experiments finished\n",
      "[EMA/INFO/MainProcess] results saved successfully to ./data/test\n"
     ]
    },
    {
     "name": "stdout",
     "output_type": "stream",
     "text": [
      "t\n",
      "t\n",
      "t\n",
      "t\n",
      "t\n",
      "t\n",
      "t\n",
      "t\n",
      "t\n",
      "t\n"
     ]
    }
   ],
   "source": [
    "'''\n",
    "Created on 20 dec. 2010\n",
    "\n",
    "This file illustrated the use the EMA classes for a contrived example\n",
    "It's main purpose has been to test the parallel processing functionality\n",
    "\n",
    ".. codeauthor:: jhkwakkel <j.h.kwakkel (at) tudelft (dot) nl>\n",
    "'''\n",
    "import numpy as np\n",
    "from __future__ import (absolute_import, print_function, division,\n",
    "                        unicode_literals)\n",
    "\n",
    "from ema_workbench import (Model, RealParameter, ScalarOutcome, ema_logging, IntegerParameter,\n",
    "                           perform_experiments)\n",
    "\n",
    "from ema_workbench.util.utilities import save_EMA_results\n",
    "\n",
    "def some_model(x1=None, x2=None, x3=None):\n",
    "    if x3 == 0: \n",
    "        print ('t')\n",
    "        return {'y':np.nan}\n",
    "    else:\n",
    "        return {'y':x1*x2/x3}\n",
    "\n",
    "if __name__ == '__main__':\n",
    "    ema_logging.LOG_FORMAT = '[%(name)s/%(levelname)s/%(processName)s] %(message)s'\n",
    "    ema_logging.log_to_stderr(ema_logging.INFO)\n",
    "    \n",
    "    model = Model('simpleModel', function=some_model) #instantiate the model\n",
    "\n",
    "    #specify uncertainties\n",
    "    model.uncertainties = [RealParameter(\"x1\", 0.1, 10),\n",
    "                           RealParameter(\"x2\", -0.01,0.01),\n",
    "                           IntegerParameter(\"x3\", 0, 10)]\n",
    "    #specify outcomes \n",
    "    model.outcomes = [ScalarOutcome('y')]\n",
    "\n",
    "    results = perform_experiments(model, 100)\n",
    "\n",
    "#     ensemble = ModelEnsemble() #instantiate an ensemble\n",
    "#     ensemble.model_structure = model #set the model on the ensemble\n",
    "#     results = ensemble.perform_experiments(100, reporting_interval=1) #run 1000 experiments\n",
    "    path = './data/test'\n",
    "    save_EMA_results(results, path)"
   ]
  },
  {
   "cell_type": "code",
   "execution_count": 2,
   "metadata": {
    "collapsed": false
   },
   "outputs": [
    {
     "name": "stdout",
     "output_type": "stream",
     "text": [
      "['./data/test/experiments.csv', './data/test/outcomes metadata.csv', './data/test/y.csv', './data/test/experiments metadata.csv']\n",
      "['./data/test/y.csv']\n"
     ]
    }
   ],
   "source": [
    "from ema_workbench.util.utilities import load_EMA_results\n",
    "\n",
    "results = load_EMA_results('./data/test')"
   ]
  },
  {
   "cell_type": "code",
   "execution_count": 3,
   "metadata": {
    "collapsed": false
   },
   "outputs": [],
   "source": [
    "experiments, outcomes = results"
   ]
  },
  {
   "cell_type": "code",
   "execution_count": 4,
   "metadata": {
    "collapsed": false
   },
   "outputs": [
    {
     "data": {
      "text/plain": [
       "90"
      ]
     },
     "execution_count": 4,
     "metadata": {},
     "output_type": "execute_result"
    }
   ],
   "source": [
    "len(outcomes['y'])"
   ]
  },
  {
   "cell_type": "code",
   "execution_count": 5,
   "metadata": {
    "collapsed": false
   },
   "outputs": [
    {
     "data": {
      "text/plain": [
       "90"
      ]
     },
     "execution_count": 5,
     "metadata": {},
     "output_type": "execute_result"
    }
   ],
   "source": [
    "import pandas as pd\n",
    "len(pd.DataFrame(experiments))"
   ]
  },
  {
   "cell_type": "code",
   "execution_count": null,
   "metadata": {
    "collapsed": true
   },
   "outputs": [],
   "source": []
  }
 ],
 "metadata": {
  "anaconda-cloud": {},
  "kernelspec": {
   "display_name": "Python [conda env:env_full]",
   "language": "python",
   "name": "conda-env-env_full-py"
  },
  "language_info": {
   "codemirror_mode": {
    "name": "ipython",
    "version": 3
   },
   "file_extension": ".py",
   "mimetype": "text/x-python",
   "name": "python",
   "nbconvert_exporter": "python",
   "pygments_lexer": "ipython3",
   "version": "3.5.2"
  }
 },
 "nbformat": 4,
 "nbformat_minor": 1
}
